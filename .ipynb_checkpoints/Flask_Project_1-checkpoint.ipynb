{
 "cells": [
  {
   "cell_type": "code",
   "execution_count": null,
   "id": "5a4c96ce",
   "metadata": {},
   "outputs": [],
   "source": [
    "from flask import Flask,Response , request , flash , url_for,jsonify\n",
    "from flask import Flask\n",
    "\n",
    "app = Flask(__name__)\n",
    "\n",
    "@app.route('/xyz', methods = ['GET', 'POST'])\n",
    "def test():\n",
    "    if(request.method == 'POST'):\n",
    "        a = request.json['num1']\n",
    "        b = request.json['num2']\n",
    "        result = a + b\n",
    "        return jsonify(str(result))\n",
    "\n",
    "@app.route('/abc/sudh', methods=['POST'])\n",
    "def test1():\n",
    "    if(request.method == 'POST'):\n",
    "        a = request.json['num1']\n",
    "        b = request.json['num2']\n",
    "        result = a + b\n",
    "        return jsonify(str(result))\n",
    "\n",
    "@app.route('/abc/sudh/xyz', methods=['POST'])\n",
    "\n",
    "def test2():\n",
    "    if(request.method == 'POST'):\n",
    "        a = request.json['num3']\n",
    "        b = request.json['num4']\n",
    "        result = a + b\n",
    "        return jsonify(str(result))\n",
    "\n",
    "@app.route('/abc/sudh/kumar', methods=['POST'])\n",
    "def test3():\n",
    "    if(request.method == 'POST'):\n",
    "        a = request.json['num5']\n",
    "        b = request.json['num6']\n",
    "        result = a + b\n",
    "        return jsonify(str(result))\n",
    "\n",
    "\n",
    "if __name__ == '__main__' :\n",
    "    app.debug = True\n",
    "    app.run()\n"
   ]
  }
 ],
 "metadata": {
  "kernelspec": {
   "display_name": "Python 3 (ipykernel)",
   "language": "python",
   "name": "python3"
  },
  "language_info": {
   "codemirror_mode": {
    "name": "ipython",
    "version": 3
   },
   "file_extension": ".py",
   "mimetype": "text/x-python",
   "name": "python",
   "nbconvert_exporter": "python",
   "pygments_lexer": "ipython3",
   "version": "3.9.7"
  }
 },
 "nbformat": 4,
 "nbformat_minor": 5
}
