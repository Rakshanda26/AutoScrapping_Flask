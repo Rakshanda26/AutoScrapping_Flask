{
 "cells": [
  {
   "cell_type": "markdown",
   "id": "3e9d74ca",
   "metadata": {},
   "source": [
    "### Install Autoscrapper"
   ]
  },
  {
   "cell_type": "code",
   "execution_count": 1,
   "id": "905963cf",
   "metadata": {},
   "outputs": [
    {
     "name": "stdout",
     "output_type": "stream",
     "text": [
      "Requirement already satisfied: autoscraper in c:\\users\\rakshanda\\anaconda3\\lib\\site-packages (1.1.14)\n",
      "Requirement already satisfied: requests in c:\\users\\rakshanda\\anaconda3\\lib\\site-packages (from autoscraper) (2.30.0)\n",
      "Requirement already satisfied: lxml in c:\\users\\rakshanda\\anaconda3\\lib\\site-packages (from autoscraper) (4.9.2)\n",
      "Requirement already satisfied: bs4 in c:\\users\\rakshanda\\anaconda3\\lib\\site-packages (from autoscraper) (0.0.1)\n",
      "Requirement already satisfied: beautifulsoup4 in c:\\users\\rakshanda\\anaconda3\\lib\\site-packages (from bs4->autoscraper) (4.12.2)\n",
      "Requirement already satisfied: soupsieve>1.2 in c:\\users\\rakshanda\\anaconda3\\lib\\site-packages (from beautifulsoup4->bs4->autoscraper) (2.2.1)\n",
      "Requirement already satisfied: certifi>=2017.4.17 in c:\\users\\rakshanda\\anaconda3\\lib\\site-packages (from requests->autoscraper) (2022.12.7)\n",
      "Requirement already satisfied: idna<4,>=2.5 in c:\\users\\rakshanda\\appdata\\roaming\\python\\python39\\site-packages (from requests->autoscraper) (2.10)\n",
      "Requirement already satisfied: charset-normalizer<4,>=2 in c:\\users\\rakshanda\\anaconda3\\lib\\site-packages (from requests->autoscraper) (2.0.4)\n",
      "Requirement already satisfied: urllib3<3,>=1.21.1 in c:\\users\\rakshanda\\anaconda3\\lib\\site-packages (from requests->autoscraper) (1.26.7)\n"
     ]
    }
   ],
   "source": [
    "!pip install autoscraper"
   ]
  },
  {
   "cell_type": "code",
   "execution_count": 4,
   "id": "862f0a87",
   "metadata": {},
   "outputs": [
    {
     "name": "stdout",
     "output_type": "stream",
     "text": [
      "[]\n"
     ]
    }
   ],
   "source": [
    "from autoscraper import AutoScraper\n",
    "\n",
    "url = 'https://github.com/krishnaik06?tab=repositories'\n",
    "\n",
    "# We can add one or multiple candidates here.\n",
    "# You can also put urls here to retrieve urls.\n",
    "wanted_list = [\"85\",\"Car-Price-Prediction\",\"8.4k\"]\n",
    "\n",
    "scraper = AutoScraper()\n",
    "result = scraper.build(url, wanted_list)\n",
    "print(result)"
   ]
  },
  {
   "cell_type": "code",
   "execution_count": 3,
   "id": "1883b616",
   "metadata": {},
   "outputs": [
    {
     "data": {
      "text/plain": [
       "{}"
      ]
     },
     "execution_count": 3,
     "metadata": {},
     "output_type": "execute_result"
    }
   ],
   "source": [
    "scraper.get_result_similar(\"https://github.com/krishnaik06?tab=repositories\",grouped=True)"
   ]
  },
  {
   "cell_type": "code",
   "execution_count": 34,
   "id": "129cfcd0",
   "metadata": {},
   "outputs": [],
   "source": [
    "scraper.set_rule_aliases({'rule_iv97': 'Stars', 'rule_t3ca': 'Title','rule_sxsg':'Followers'})\n",
    "scraper.keep_rules(['rule_iv97', 'rule_t3ca','rule_sxsg'])\n",
    "scraper.save('github-repository-search')"
   ]
  },
  {
   "cell_type": "code",
   "execution_count": 35,
   "id": "894133ff",
   "metadata": {},
   "outputs": [],
   "source": [
    "scraper.load('github-repository-search')"
   ]
  },
  {
   "cell_type": "code",
   "execution_count": 36,
   "id": "f474219f",
   "metadata": {},
   "outputs": [],
   "source": [
    "result=scraper.get_result_similar(\"https://github.com/iNeuronai?tab=repositories\",group_by_alias=True)"
   ]
  },
  {
   "cell_type": "code",
   "execution_count": 37,
   "id": "5503ffd2",
   "metadata": {},
   "outputs": [
    {
     "data": {
      "text/plain": [
       "['1.4k', '0', '0']"
      ]
     },
     "execution_count": 37,
     "metadata": {},
     "output_type": "execute_result"
    }
   ],
   "source": [
    "result['Followers']"
   ]
  },
  {
   "cell_type": "code",
   "execution_count": null,
   "id": "ac9c2f73",
   "metadata": {},
   "outputs": [],
   "source": []
  }
 ],
 "metadata": {
  "kernelspec": {
   "display_name": "Python 3 (ipykernel)",
   "language": "python",
   "name": "python3"
  },
  "language_info": {
   "codemirror_mode": {
    "name": "ipython",
    "version": 3
   },
   "file_extension": ".py",
   "mimetype": "text/x-python",
   "name": "python",
   "nbconvert_exporter": "python",
   "pygments_lexer": "ipython3",
   "version": "3.9.7"
  }
 },
 "nbformat": 4,
 "nbformat_minor": 5
}
