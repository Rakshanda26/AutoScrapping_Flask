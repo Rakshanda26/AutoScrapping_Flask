{
 "cells": [
  {
   "cell_type": "code",
   "execution_count": 2,
   "id": "9ba85b0f",
   "metadata": {},
   "outputs": [
    {
     "name": "stdout",
     "output_type": "stream",
     "text": [
      "Requirement already satisfied: autoscraper in c:\\users\\win10\\anaconda3\\envs\\myenv\\lib\\site-packages (1.1.12)\n",
      "Requirement already satisfied: lxml in c:\\users\\win10\\anaconda3\\envs\\myenv\\lib\\site-packages (from autoscraper) (4.6.3)\n",
      "Requirement already satisfied: requests in c:\\users\\win10\\anaconda3\\envs\\myenv\\lib\\site-packages (from autoscraper) (2.25.1)\n",
      "Requirement already satisfied: bs4 in c:\\users\\win10\\anaconda3\\envs\\myenv\\lib\\site-packages (from autoscraper) (0.0.1)\n",
      "Requirement already satisfied: beautifulsoup4 in c:\\users\\win10\\anaconda3\\envs\\myenv\\lib\\site-packages (from bs4->autoscraper) (4.9.3)\n",
      "Requirement already satisfied: soupsieve>1.2 in c:\\users\\win10\\anaconda3\\envs\\myenv\\lib\\site-packages (from beautifulsoup4->bs4->autoscraper) (2.2.1)\n",
      "Requirement already satisfied: idna<3,>=2.5 in c:\\users\\win10\\anaconda3\\envs\\myenv\\lib\\site-packages (from requests->autoscraper) (2.10)\n",
      "Requirement already satisfied: certifi>=2017.4.17 in c:\\users\\win10\\anaconda3\\envs\\myenv\\lib\\site-packages (from requests->autoscraper) (2020.12.5)\n",
      "Requirement already satisfied: urllib3<1.27,>=1.21.1 in c:\\users\\win10\\anaconda3\\envs\\myenv\\lib\\site-packages (from requests->autoscraper) (1.26.4)\n",
      "Requirement already satisfied: chardet<5,>=3.0.2 in c:\\users\\win10\\anaconda3\\envs\\myenv\\lib\\site-packages (from requests->autoscraper) (3.0.4)\n"
     ]
    }
   ],
   "source": [
    "!pip install autoscraper"
   ]
  },
  {
   "cell_type": "code",
   "execution_count": 1,
   "id": "c32a7625",
   "metadata": {},
   "outputs": [],
   "source": [
    "from autoscraper import AutoScraper"
   ]
  },
  {
   "cell_type": "code",
   "execution_count": 6,
   "id": "f1492bd8",
   "metadata": {},
   "outputs": [],
   "source": [
    "amazon_url=\"https://www.amazon.in/s?k=iphones\"\n",
    "\n",
    "wanted_list=[\"₹58,400\",\"New Apple iPhone 11 (128GB) - Black\"]"
   ]
  },
  {
   "cell_type": "code",
   "execution_count": 7,
   "id": "11cc44b8",
   "metadata": {},
   "outputs": [
    {
     "name": "stdout",
     "output_type": "stream",
     "text": [
      "[]\n"
     ]
    }
   ],
   "source": [
    "scraper=AutoScraper()\n",
    "result=scraper.build(amazon_url,wanted_list)\n",
    "print(result)"
   ]
  },
  {
   "cell_type": "code",
   "execution_count": 8,
   "id": "32cef483",
   "metadata": {},
   "outputs": [
    {
     "data": {
      "text/plain": [
       "{}"
      ]
     },
     "execution_count": 8,
     "metadata": {},
     "output_type": "execute_result"
    }
   ],
   "source": [
    "scraper.get_result_similar(amazon_url,grouped=True)"
   ]
  },
  {
   "cell_type": "code",
   "execution_count": 9,
   "id": "3b1d93c4",
   "metadata": {},
   "outputs": [
    {
     "ename": "KeyError",
     "evalue": "'rule_q4do'",
     "output_type": "error",
     "traceback": [
      "\u001b[1;31m---------------------------------------------------------------------------\u001b[0m",
      "\u001b[1;31mKeyError\u001b[0m                                  Traceback (most recent call last)",
      "\u001b[1;32mC:\\Users\\RAKSHA~1\\AppData\\Local\\Temp/ipykernel_15660/427753534.py\u001b[0m in \u001b[0;36m<module>\u001b[1;34m\u001b[0m\n\u001b[1;32m----> 1\u001b[1;33m \u001b[0mscraper\u001b[0m\u001b[1;33m.\u001b[0m\u001b[0mset_rule_aliases\u001b[0m\u001b[1;33m(\u001b[0m\u001b[1;33m{\u001b[0m\u001b[1;34m'rule_q4do'\u001b[0m\u001b[1;33m:\u001b[0m\u001b[1;34m'Title'\u001b[0m\u001b[1;33m,\u001b[0m\u001b[1;34m'rule_hbsb'\u001b[0m\u001b[1;33m:\u001b[0m\u001b[1;34m'Price'\u001b[0m\u001b[1;33m}\u001b[0m\u001b[1;33m)\u001b[0m\u001b[1;33m\u001b[0m\u001b[1;33m\u001b[0m\u001b[0m\n\u001b[0m\u001b[0;32m      2\u001b[0m \u001b[0mscraper\u001b[0m\u001b[1;33m.\u001b[0m\u001b[0mkeep_rules\u001b[0m\u001b[1;33m(\u001b[0m\u001b[1;33m[\u001b[0m\u001b[1;34m'rule_q4do'\u001b[0m\u001b[1;33m,\u001b[0m\u001b[1;34m'rule_hbsb'\u001b[0m\u001b[1;33m]\u001b[0m\u001b[1;33m)\u001b[0m\u001b[1;33m\u001b[0m\u001b[1;33m\u001b[0m\u001b[0m\n\u001b[0;32m      3\u001b[0m \u001b[0mscraper\u001b[0m\u001b[1;33m.\u001b[0m\u001b[0msave\u001b[0m\u001b[1;33m(\u001b[0m\u001b[1;34m'amazon-search'\u001b[0m\u001b[1;33m)\u001b[0m\u001b[1;33m\u001b[0m\u001b[1;33m\u001b[0m\u001b[0m\n",
      "\u001b[1;32m~\\anaconda3\\lib\\site-packages\\autoscraper\\auto_scraper.py\u001b[0m in \u001b[0;36mset_rule_aliases\u001b[1;34m(self, rule_aliases)\u001b[0m\n\u001b[0;32m    717\u001b[0m         \u001b[0mid_to_stack\u001b[0m \u001b[1;33m=\u001b[0m \u001b[1;33m{\u001b[0m\u001b[0mstack\u001b[0m\u001b[1;33m[\u001b[0m\u001b[1;34m\"stack_id\"\u001b[0m\u001b[1;33m]\u001b[0m\u001b[1;33m:\u001b[0m \u001b[0mstack\u001b[0m \u001b[1;32mfor\u001b[0m \u001b[0mstack\u001b[0m \u001b[1;32min\u001b[0m \u001b[0mself\u001b[0m\u001b[1;33m.\u001b[0m\u001b[0mstack_list\u001b[0m\u001b[1;33m}\u001b[0m\u001b[1;33m\u001b[0m\u001b[1;33m\u001b[0m\u001b[0m\n\u001b[0;32m    718\u001b[0m         \u001b[1;32mfor\u001b[0m \u001b[0mrule_id\u001b[0m\u001b[1;33m,\u001b[0m \u001b[0malias\u001b[0m \u001b[1;32min\u001b[0m \u001b[0mrule_aliases\u001b[0m\u001b[1;33m.\u001b[0m\u001b[0mitems\u001b[0m\u001b[1;33m(\u001b[0m\u001b[1;33m)\u001b[0m\u001b[1;33m:\u001b[0m\u001b[1;33m\u001b[0m\u001b[1;33m\u001b[0m\u001b[0m\n\u001b[1;32m--> 719\u001b[1;33m             \u001b[0mid_to_stack\u001b[0m\u001b[1;33m[\u001b[0m\u001b[0mrule_id\u001b[0m\u001b[1;33m]\u001b[0m\u001b[1;33m[\u001b[0m\u001b[1;34m\"alias\"\u001b[0m\u001b[1;33m]\u001b[0m \u001b[1;33m=\u001b[0m \u001b[0malias\u001b[0m\u001b[1;33m\u001b[0m\u001b[1;33m\u001b[0m\u001b[0m\n\u001b[0m\u001b[0;32m    720\u001b[0m \u001b[1;33m\u001b[0m\u001b[0m\n\u001b[0;32m    721\u001b[0m     \u001b[1;32mdef\u001b[0m \u001b[0mgenerate_python_code\u001b[0m\u001b[1;33m(\u001b[0m\u001b[0mself\u001b[0m\u001b[1;33m)\u001b[0m\u001b[1;33m:\u001b[0m\u001b[1;33m\u001b[0m\u001b[1;33m\u001b[0m\u001b[0m\n",
      "\u001b[1;31mKeyError\u001b[0m: 'rule_q4do'"
     ]
    }
   ],
   "source": [
    "scraper.set_rule_aliases({'rule_q4do':'Title','rule_hbsb':'Price'})\n",
    "scraper.keep_rules(['rule_q4do','rule_hbsb'])\n",
    "scraper.save('amazon-search')"
   ]
  },
  {
   "cell_type": "code",
   "execution_count": 27,
   "id": "e9f46ecb",
   "metadata": {},
   "outputs": [],
   "source": [
    "results=scraper.get_result_similar('https://www.amazon.in/s?k=mi+phones+under+15000',group_by_alias=True)"
   ]
  },
  {
   "cell_type": "code",
   "execution_count": 29,
   "id": "c6ddeb9a",
   "metadata": {},
   "outputs": [
    {
     "data": {
      "text/plain": [
       "['₹13,999',\n",
       " '₹17,999',\n",
       " '₹12,999',\n",
       " '₹16,999',\n",
       " '₹6,799',\n",
       " '₹8,499',\n",
       " '₹8,799',\n",
       " '₹10,999',\n",
       " '₹10,999',\n",
       " '₹14,999',\n",
       " '₹14,999',\n",
       " '₹18,999',\n",
       " '₹10,499',\n",
       " '₹13,999',\n",
       " '₹9,999',\n",
       " '₹10,999',\n",
       " '₹6,799',\n",
       " '₹8,499',\n",
       " '₹9,999',\n",
       " '₹10,999',\n",
       " '₹8,799',\n",
       " '₹10,999',\n",
       " '₹13,999',\n",
       " '₹17,999',\n",
       " '₹12,999',\n",
       " '₹16,999',\n",
       " '₹10,990',\n",
       " '₹15,990',\n",
       " '₹7,499',\n",
       " '₹9,499',\n",
       " '₹13,999',\n",
       " '₹17,499']"
      ]
     },
     "execution_count": 29,
     "metadata": {},
     "output_type": "execute_result"
    }
   ],
   "source": [
    "results['Price']"
   ]
  },
  {
   "cell_type": "code",
   "execution_count": null,
   "id": "3ebf5d72",
   "metadata": {},
   "outputs": [],
   "source": []
  },
  {
   "cell_type": "code",
   "execution_count": null,
   "id": "d3c79518",
   "metadata": {},
   "outputs": [],
   "source": []
  },
  {
   "cell_type": "code",
   "execution_count": null,
   "id": "ca60befe",
   "metadata": {},
   "outputs": [],
   "source": []
  },
  {
   "cell_type": "code",
   "execution_count": null,
   "id": "b61b880a",
   "metadata": {},
   "outputs": [],
   "source": []
  }
 ],
 "metadata": {
  "kernelspec": {
   "display_name": "Python 3 (ipykernel)",
   "language": "python",
   "name": "python3"
  },
  "language_info": {
   "codemirror_mode": {
    "name": "ipython",
    "version": 3
   },
   "file_extension": ".py",
   "mimetype": "text/x-python",
   "name": "python",
   "nbconvert_exporter": "python",
   "pygments_lexer": "ipython3",
   "version": "3.9.7"
  }
 },
 "nbformat": 4,
 "nbformat_minor": 5
}
