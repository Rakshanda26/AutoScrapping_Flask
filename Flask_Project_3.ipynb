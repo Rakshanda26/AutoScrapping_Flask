{
 "cells": [
  {
   "cell_type": "code",
   "execution_count": null,
   "id": "f0cf9cd0",
   "metadata": {},
   "outputs": [],
   "source": [
    "#pip install mysql-connector-python\n",
    "\n",
    "from flask import Flask, request, jsonify\n",
    "\n",
    "import mysql.connector as conn\n",
    "\n",
    "app = Flask(__name__)\n",
    "\n",
    "mydb = conn.connect(host = \"localhost\", user= \"root\", passwd= \"Rakshanda@26\")\n",
    "cursor = mydb.cursor()\n",
    "cursor.execute(\"create database if not exists tasksql\")\n",
    "cursor.execute(\"create table if not exists tasksql.mysqltable(name varchar(30), number int )\")\n",
    "\n",
    "@app.route('/insert', methods=['POST'])\n",
    "def insert():\n",
    "    if request.method == 'POST':\n",
    "        name = request.json['name']\n",
    "        number = request.json['number']\n",
    "\n",
    "        cursor.execute(\"insert into tasksql.mysqltable values(%s, %s)\", (name, number))\n",
    "        mydb.commit()\n",
    "        return jsonify(str('successfully inserted '))\n",
    "\n",
    "@app.route('/update', methods=['POST'])\n",
    "def updata():\n",
    "    if request.method == 'POST':\n",
    "        get_name = request.json['get_name']\n",
    "        cursor.execute(\"update tasksql.mysqltable set number = number +500 where name = %s \", (get_name,))\n",
    "        mydb.commit()\n",
    "        return jsonify(str(\"updated sucessfully\"))\n",
    "\n",
    "@app.route('/delete', methods=['POST'])\n",
    "def delete():\n",
    "    if request.method == 'POST':\n",
    "        name_del = request.json['name_del']\n",
    "        cursor.execute('delete from tasksql.mysqltable where name = %s', (name_del,))\n",
    "        mydb.commit()\n",
    "        return jsonify(str(\"deleted sucessfully\"))\n",
    "\n",
    "@app.route('/fetch', methods = ['POST'])\n",
    "def fetch_data():\n",
    "    cursor.execute(\"select * from tasksql.mysqltable\")\n",
    "    l =[]\n",
    "    for i in cursor.fetchall():\n",
    "        l.append(i)\n",
    "    return jsonify(str(l))\n",
    "\n",
    "if __name__ == '__main__':\n",
    "    app.run(debug=True, port=8000)\n",
    "\n",
    "\n"
   ]
  },
  {
   "cell_type": "code",
   "execution_count": null,
   "id": "0e80dc2c",
   "metadata": {},
   "outputs": [],
   "source": []
  }
 ],
 "metadata": {
  "kernelspec": {
   "display_name": "Python 3 (ipykernel)",
   "language": "python",
   "name": "python3"
  },
  "language_info": {
   "codemirror_mode": {
    "name": "ipython",
    "version": 3
   },
   "file_extension": ".py",
   "mimetype": "text/x-python",
   "name": "python",
   "nbconvert_exporter": "python",
   "pygments_lexer": "ipython3",
   "version": "3.9.7"
  }
 },
 "nbformat": 4,
 "nbformat_minor": 5
}
