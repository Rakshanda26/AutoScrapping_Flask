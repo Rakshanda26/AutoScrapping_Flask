{
 "cells": [
  {
   "cell_type": "code",
   "execution_count": 2,
   "id": "62cd69cd",
   "metadata": {},
   "outputs": [],
   "source": [
    "from autoscraper import AutoScraper"
   ]
  },
  {
   "cell_type": "code",
   "execution_count": 5,
   "id": "402e39dc",
   "metadata": {},
   "outputs": [],
   "source": [
    "amazon_url = \"https://www.amazon.in/s?k=headphones&crid=1YSNET43KQN&sprefix=headphones+%2Caps%2C208&ref=nb_sb_noss_2\""
   ]
  },
  {
   "cell_type": "code",
   "execution_count": 24,
   "id": "f5ecdc06",
   "metadata": {},
   "outputs": [
    {
     "name": "stdout",
     "output_type": "stream",
     "text": [
      "[]\n"
     ]
    }
   ],
   "source": [
    "ajio_url = \"https://www.ajio.com/s/headphone-and-speaker-5015-80481?query=:relevance\"\n",
    "wanted_list = [\"boAt\"]\n",
    "scraper = AutoScraper()\n",
    "result1 = scraper.build(ajio_url, wanted_list)\n",
    "print(result1)"
   ]
  },
  {
   "cell_type": "code",
   "execution_count": 25,
   "id": "57aac74a",
   "metadata": {},
   "outputs": [],
   "source": [
    "wanted_list = [\"₹6,999\", \"Skullcandy Hesh ANC Bluetooth Wireless Over-Ear Headphones with Mic (Black)\", \"7,118\"]"
   ]
  },
  {
   "cell_type": "code",
   "execution_count": 20,
   "id": "55f7424d",
   "metadata": {},
   "outputs": [
    {
     "name": "stdout",
     "output_type": "stream",
     "text": [
      "[]\n"
     ]
    }
   ],
   "source": [
    "from autoscraper import AutoScraper\n",
    "\n",
    "url = 'https://github.com/krishnaik06?tab=repositories'\n",
    "wanted_list = [\"85\", \"Car-Price-Prediction\", \"8.4k\"]\n",
    "\n",
    "scraper = AutoScraper()\n",
    "scraper.build(url, wanted_list)\n",
    "\n",
    "# Enable debugging\n",
    "scraper.set_rule_aliases({})  # You can add aliases for the rules if needed\n",
    "scraper.keep_rules(['rule_name'])  # Replace 'rule_name' with the rule name to debug\n",
    "\n",
    "# Perform the scrape\n",
    "result = scraper.get_result_similar(url)\n",
    "print(result)\n"
   ]
  },
  {
   "cell_type": "code",
   "execution_count": 21,
   "id": "3d87fb3a",
   "metadata": {},
   "outputs": [
    {
     "ename": "KeyError",
     "evalue": "'85'",
     "output_type": "error",
     "traceback": [
      "\u001b[1;31m---------------------------------------------------------------------------\u001b[0m",
      "\u001b[1;31mKeyError\u001b[0m                                  Traceback (most recent call last)",
      "\u001b[1;32mC:\\Users\\RAKSHA~1\\AppData\\Local\\Temp/ipykernel_20692/1539124303.py\u001b[0m in \u001b[0;36m<module>\u001b[1;34m\u001b[0m\n\u001b[0;32m      8\u001b[0m \u001b[1;33m\u001b[0m\u001b[0m\n\u001b[0;32m      9\u001b[0m \u001b[1;31m# Enable debugging\u001b[0m\u001b[1;33m\u001b[0m\u001b[1;33m\u001b[0m\u001b[0m\n\u001b[1;32m---> 10\u001b[1;33m \u001b[0mscraper\u001b[0m\u001b[1;33m.\u001b[0m\u001b[0mset_rule_aliases\u001b[0m\u001b[1;33m(\u001b[0m\u001b[1;33m{\u001b[0m\u001b[0mwanted_list\u001b[0m\u001b[1;33m[\u001b[0m\u001b[1;36m0\u001b[0m\u001b[1;33m]\u001b[0m\u001b[1;33m:\u001b[0m \u001b[1;34m'Stars'\u001b[0m\u001b[1;33m,\u001b[0m \u001b[0mwanted_list\u001b[0m\u001b[1;33m[\u001b[0m\u001b[1;36m1\u001b[0m\u001b[1;33m]\u001b[0m\u001b[1;33m:\u001b[0m \u001b[1;34m'Repository Name'\u001b[0m\u001b[1;33m,\u001b[0m \u001b[0mwanted_list\u001b[0m\u001b[1;33m[\u001b[0m\u001b[1;36m2\u001b[0m\u001b[1;33m]\u001b[0m\u001b[1;33m:\u001b[0m \u001b[1;34m'Forks'\u001b[0m\u001b[1;33m}\u001b[0m\u001b[1;33m)\u001b[0m\u001b[1;33m\u001b[0m\u001b[1;33m\u001b[0m\u001b[0m\n\u001b[0m\u001b[0;32m     11\u001b[0m \u001b[0mscraper\u001b[0m\u001b[1;33m.\u001b[0m\u001b[0mkeep_rules\u001b[0m\u001b[1;33m(\u001b[0m\u001b[1;33m[\u001b[0m\u001b[1;34m'Stars'\u001b[0m\u001b[1;33m,\u001b[0m \u001b[1;34m'Repository Name'\u001b[0m\u001b[1;33m,\u001b[0m \u001b[1;34m'Forks'\u001b[0m\u001b[1;33m]\u001b[0m\u001b[1;33m)\u001b[0m\u001b[1;33m\u001b[0m\u001b[1;33m\u001b[0m\u001b[0m\n\u001b[0;32m     12\u001b[0m \u001b[1;33m\u001b[0m\u001b[0m\n",
      "\u001b[1;32m~\\anaconda3\\lib\\site-packages\\autoscraper\\auto_scraper.py\u001b[0m in \u001b[0;36mset_rule_aliases\u001b[1;34m(self, rule_aliases)\u001b[0m\n\u001b[0;32m    717\u001b[0m         \u001b[0mid_to_stack\u001b[0m \u001b[1;33m=\u001b[0m \u001b[1;33m{\u001b[0m\u001b[0mstack\u001b[0m\u001b[1;33m[\u001b[0m\u001b[1;34m\"stack_id\"\u001b[0m\u001b[1;33m]\u001b[0m\u001b[1;33m:\u001b[0m \u001b[0mstack\u001b[0m \u001b[1;32mfor\u001b[0m \u001b[0mstack\u001b[0m \u001b[1;32min\u001b[0m \u001b[0mself\u001b[0m\u001b[1;33m.\u001b[0m\u001b[0mstack_list\u001b[0m\u001b[1;33m}\u001b[0m\u001b[1;33m\u001b[0m\u001b[1;33m\u001b[0m\u001b[0m\n\u001b[0;32m    718\u001b[0m         \u001b[1;32mfor\u001b[0m \u001b[0mrule_id\u001b[0m\u001b[1;33m,\u001b[0m \u001b[0malias\u001b[0m \u001b[1;32min\u001b[0m \u001b[0mrule_aliases\u001b[0m\u001b[1;33m.\u001b[0m\u001b[0mitems\u001b[0m\u001b[1;33m(\u001b[0m\u001b[1;33m)\u001b[0m\u001b[1;33m:\u001b[0m\u001b[1;33m\u001b[0m\u001b[1;33m\u001b[0m\u001b[0m\n\u001b[1;32m--> 719\u001b[1;33m             \u001b[0mid_to_stack\u001b[0m\u001b[1;33m[\u001b[0m\u001b[0mrule_id\u001b[0m\u001b[1;33m]\u001b[0m\u001b[1;33m[\u001b[0m\u001b[1;34m\"alias\"\u001b[0m\u001b[1;33m]\u001b[0m \u001b[1;33m=\u001b[0m \u001b[0malias\u001b[0m\u001b[1;33m\u001b[0m\u001b[1;33m\u001b[0m\u001b[0m\n\u001b[0m\u001b[0;32m    720\u001b[0m \u001b[1;33m\u001b[0m\u001b[0m\n\u001b[0;32m    721\u001b[0m     \u001b[1;32mdef\u001b[0m \u001b[0mgenerate_python_code\u001b[0m\u001b[1;33m(\u001b[0m\u001b[0mself\u001b[0m\u001b[1;33m)\u001b[0m\u001b[1;33m:\u001b[0m\u001b[1;33m\u001b[0m\u001b[1;33m\u001b[0m\u001b[0m\n",
      "\u001b[1;31mKeyError\u001b[0m: '85'"
     ]
    }
   ],
   "source": [
    "from autoscraper import AutoScraper\n",
    "\n",
    "url = 'https://github.com/krishnaik06?tab=repositories'\n",
    "wanted_list = [\"85\", \"Car-Price-Prediction\", \"8.4k\"]\n",
    "\n",
    "scraper = AutoScraper()\n",
    "scraper.build(url, wanted_list)\n",
    "\n",
    "# Enable debugging\n",
    "scraper.set_rule_aliases({wanted_list[0]: 'Stars', wanted_list[1]: 'Repository Name', wanted_list[2]: 'Forks'})\n",
    "scraper.keep_rules(['Stars', 'Repository Name', 'Forks'])\n",
    "\n",
    "# Perform the scrape\n",
    "result = scraper.get_result_similar(url)\n",
    "\n",
    "if result:\n",
    "    for item in result:\n",
    "        print(item)\n",
    "else:\n",
    "    print(\"No data found. Check your selectors and website structure.\")\n"
   ]
  },
  {
   "cell_type": "code",
   "execution_count": 15,
   "id": "850a32fb",
   "metadata": {},
   "outputs": [],
   "source": [
    "scraper = AutoScraper()"
   ]
  },
  {
   "cell_type": "code",
   "execution_count": 16,
   "id": "eef93371",
   "metadata": {},
   "outputs": [],
   "source": [
    "result = scraper.build(amazon_url, wanted_list)"
   ]
  },
  {
   "cell_type": "code",
   "execution_count": 17,
   "id": "14dca810",
   "metadata": {},
   "outputs": [
    {
     "name": "stdout",
     "output_type": "stream",
     "text": [
      "[]\n"
     ]
    }
   ],
   "source": [
    "print(result)"
   ]
  },
  {
   "cell_type": "code",
   "execution_count": null,
   "id": "c9e0b59b",
   "metadata": {},
   "outputs": [],
   "source": [
    "boAt\n",
    "Airdopes 402 True Wireless Earbuds\n",
    "₹1,677 ₹5,990 (72% off)"
   ]
  }
 ],
 "metadata": {
  "kernelspec": {
   "display_name": "Python 3 (ipykernel)",
   "language": "python",
   "name": "python3"
  },
  "language_info": {
   "codemirror_mode": {
    "name": "ipython",
    "version": 3
   },
   "file_extension": ".py",
   "mimetype": "text/x-python",
   "name": "python",
   "nbconvert_exporter": "python",
   "pygments_lexer": "ipython3",
   "version": "3.9.7"
  }
 },
 "nbformat": 4,
 "nbformat_minor": 5
}
